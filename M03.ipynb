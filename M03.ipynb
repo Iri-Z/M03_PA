{
 "cells": [
  {
   "cell_type": "code",
   "execution_count": 12,
   "id": "e3ece5f4",
   "metadata": {},
   "outputs": [
    {
     "name": "stdout",
     "output_type": "stream",
     "text": [
      "['mozzarella', 'cinderella', 'salmonella']\n",
      "['MOZZARELLA', 'cinderella', 'salmonella']\n",
      "['MOZZARELLA', 'cinderella']\n"
     ]
    }
   ],
   "source": [
    "#7.4\n",
    "things = [\"mozzarella\", \"cinderella\", \"salmonella\"]\n",
    "\n",
    "#7.5\n",
    "things[1].capitalize()\n",
    "print(things)\n",
    "#Capitalizing the element did not change the list\n",
    "\n",
    "#7.6\n",
    "things[0] = things[0].upper()\n",
    "print(things)\n",
    "#You have to set the element to the updated version of itself if you want to change the list\n",
    "\n",
    "#7.7\n",
    "things.remove(\"salmonella\")\n",
    "print(things)\n"
   ]
  },
  {
   "cell_type": "code",
   "execution_count": 13,
   "id": "d547039f",
   "metadata": {},
   "outputs": [
    {
     "name": "stdout",
     "output_type": "stream",
     "text": [
      "['Harry', 'Ron', 'Hermione']\n",
      "5\n"
     ]
    }
   ],
   "source": [
    "#9.1\n",
    "def good():\n",
    "    return ['Harry', 'Ron', 'Hermione']\n",
    "print(good())\n",
    "\n",
    "#9.2\n",
    "def get_odds():\n",
    "    temp = range(10)\n",
    "    result = []\n",
    "    for i in temp:\n",
    "        if (i%2 == 0):\n",
    "            continue\n",
    "        else:\n",
    "            result.append(i)\n",
    "    return result\n",
    "\n",
    "\n",
    "test = get_odds()\n",
    "\n",
    "for i, item in enumerate(test):\n",
    "    if i == 2:\n",
    "        print(item)"
   ]
  },
  {
   "cell_type": "code",
   "execution_count": null,
   "id": "28f692dd",
   "metadata": {},
   "outputs": [],
   "source": []
  }
 ],
 "metadata": {
  "kernelspec": {
   "display_name": "Python 3 (ipykernel)",
   "language": "python",
   "name": "python3"
  },
  "language_info": {
   "codemirror_mode": {
    "name": "ipython",
    "version": 3
   },
   "file_extension": ".py",
   "mimetype": "text/x-python",
   "name": "python",
   "nbconvert_exporter": "python",
   "pygments_lexer": "ipython3",
   "version": "3.9.13"
  }
 },
 "nbformat": 4,
 "nbformat_minor": 5
}
